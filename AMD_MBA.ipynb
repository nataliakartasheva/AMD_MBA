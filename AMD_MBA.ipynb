{
  "nbformat": 4,
  "nbformat_minor": 0,
  "metadata": {
    "colab": {
      "name": "AMD_MBA.ipynb",
      "provenance": [],
      "collapsed_sections": [],
      "mount_file_id": "1wnHUIv0Y9SsrAd_OvNhil7UX0IrhBeJp",
      "authorship_tag": "ABX9TyM7jFrLeot4qrVFYN2wDuPk",
      "include_colab_link": true
    },
    "kernelspec": {
      "name": "python3",
      "display_name": "Python 3"
    },
    "language_info": {
      "name": "python"
    }
  },
  "cells": [
    {
      "cell_type": "markdown",
      "metadata": {
        "id": "view-in-github",
        "colab_type": "text"
      },
      "source": [
        "<a href=\"https://colab.research.google.com/github/nataliakartasheva/AMD_MBA/blob/master/AMD_MBA.ipynb\" target=\"_parent\"><img src=\"https://colab.research.google.com/assets/colab-badge.svg\" alt=\"Open In Colab\"/></a>"
      ]
    },
    {
      "cell_type": "markdown",
      "source": [
        "Connect to kaggle and download datasets to drive memory"
      ],
      "metadata": {
        "id": "OoAj-3oJCgHU"
      }
    },
    {
      "cell_type": "code",
      "source": [
        "! pip install kaggle\n",
        "! pip install pyspark"
      ],
      "metadata": {
        "id": "d0U-E8nj00WV"
      },
      "execution_count": null,
      "outputs": []
    },
    {
      "cell_type": "code",
      "source": [
        "from google.colab import drive\n",
        "drive.mount('/content/drive', force_remount = True)\n",
        "\n",
        "from google.colab import files\n",
        "uploaded = files.upload()\n",
        "\n",
        "! mkdir /content/drive/MyDrive/Kaggle\n",
        "\n",
        "import shutil\n",
        "shutil.move('/content/kaggle.json', '/content/drive/MyDrive/Kaggle/kaggle.json')\n",
        "\n",
        "import os\n",
        "os.environ['KAGGLE_CONFIG_DIR'] = '/content/drive/MyDrive/Kaggle'"
      ],
      "metadata": {
        "id": "ayWz0Cy3wL2q"
      },
      "execution_count": null,
      "outputs": []
    },
    {
      "cell_type": "code",
      "source": [
        "!kaggle datasets download -d ashirwadsangwan/imdb-dataset \n",
        "!unzip imdb-dataset.zip"
      ],
      "metadata": {
        "id": "h53Hlwu06SH-"
      },
      "execution_count": null,
      "outputs": []
    },
    {
      "cell_type": "markdown",
      "source": [
        "Init spark session and download datasets to local memory"
      ],
      "metadata": {
        "id": "MkYFAe64Cvw6"
      }
    },
    {
      "cell_type": "code",
      "source": [
        "from pyspark import SparkContext, SparkConf, SQLContext\n",
        "from pyspark.sql import SparkSession, DataFrame\n",
        "from pyspark.sql.types import StructType, StructField, StringType, IntegerType, DateType, ArrayType, DoubleType\n",
        "from pyspark.sql.functions import udf, col, count, collect_set, lit, when, concat_ws, substring, length, col, expr\n",
        "\n",
        "import seaborn as sns\n",
        "import matplotlib.pyplot as plt\n",
        "\n",
        "import itertools\n",
        "import time\n",
        "from datetime import time, date, datetime\n",
        "\n",
        "import pandas as pd\n",
        "import numpy as np\n",
        "from wordcloud import WordCloud"
      ],
      "metadata": {
        "id": "6hum3AQs85r6"
      },
      "execution_count": 1,
      "outputs": []
    },
    {
      "cell_type": "code",
      "source": [
        "conf = SparkConf().setAppName(\"MarketBasketAnalysis\")\n",
        "conf = (conf.setMaster('local[*]')\n",
        "        .set('spark.executor.memory', '16G')\n",
        "        .set('spark.driver.memory', '60G')\n",
        "        .set('spark.driver.maxResultSize', '12G'))\n",
        "sc = SparkContext(conf= conf)\n",
        "spark = SparkSession.builder.appName(\"Market Basekt Analysis\").getOrCreate()"
      ],
      "metadata": {
        "id": "FjeQlmWv-pfy"
      },
      "execution_count": 2,
      "outputs": []
    },
    {
      "cell_type": "code",
      "source": [
        "spark"
      ],
      "metadata": {
        "colab": {
          "base_uri": "https://localhost:8080/",
          "height": 216
        },
        "id": "X6G65O7z-8Pt",
        "outputId": "01d13b7b-2ff5-46b6-fd3e-8ef542137eff"
      },
      "execution_count": 3,
      "outputs": [
        {
          "output_type": "execute_result",
          "data": {
            "text/html": [
              "\n",
              "            <div>\n",
              "                <p><b>SparkSession - in-memory</b></p>\n",
              "                \n",
              "        <div>\n",
              "            <p><b>SparkContext</b></p>\n",
              "\n",
              "            <p><a href=\"http://523035edc1de:4040\">Spark UI</a></p>\n",
              "\n",
              "            <dl>\n",
              "              <dt>Version</dt>\n",
              "                <dd><code>v3.2.1</code></dd>\n",
              "              <dt>Master</dt>\n",
              "                <dd><code>local[*]</code></dd>\n",
              "              <dt>AppName</dt>\n",
              "                <dd><code>MarketBasketAnalysis</code></dd>\n",
              "            </dl>\n",
              "        </div>\n",
              "        \n",
              "            </div>\n",
              "        "
            ],
            "text/plain": [
              "<pyspark.sql.session.SparkSession at 0x7f97545965d0>"
            ]
          },
          "metadata": {},
          "execution_count": 3
        }
      ]
    },
    {
      "cell_type": "code",
      "source": [
        "principals_path = '/content/title.principals.tsv.gz'\n",
        "movies_path = '/content/title.basics.tsv.gz'\n",
        "persons_path = '/content/name.basics.tsv.gz'\n",
        "\n",
        "principals = spark.read.csv(principals_path, sep='\\t', header=True, inferSchema=True)\n",
        "movies = spark.read.csv(movies_path, sep= '\\t', header=True, inferSchema=True)\n",
        "persons = spark.read.csv(persons_path, sep='\\t' , header=True, inferSchema=True)"
      ],
      "metadata": {
        "id": "bQwmQMaqArZ-"
      },
      "execution_count": 4,
      "outputs": []
    },
    {
      "cell_type": "markdown",
      "source": [
        "Exploration data analyses"
      ],
      "metadata": {
        "id": "4UGo5_8SDJ80"
      }
    },
    {
      "cell_type": "code",
      "source": [
        "principals.show(5)"
      ],
      "metadata": {
        "colab": {
          "base_uri": "https://localhost:8080/"
        },
        "id": "0IZYIAHWDOYS",
        "outputId": "89b86c71-0360-4ea6-ab05-0a9da6dc3148"
      },
      "execution_count": 5,
      "outputs": [
        {
          "output_type": "stream",
          "name": "stdout",
          "text": [
            "+---------+--------+---------+---------------+--------------------+-----------+\n",
            "|   tconst|ordering|   nconst|       category|                 job| characters|\n",
            "+---------+--------+---------+---------------+--------------------+-----------+\n",
            "|tt0000001|       1|nm1588970|           self|                  \\N|[\"Herself\"]|\n",
            "|tt0000001|       2|nm0005690|       director|                  \\N|         \\N|\n",
            "|tt0000001|       3|nm0374658|cinematographer|director of photo...|         \\N|\n",
            "|tt0000002|       1|nm0721526|       director|                  \\N|         \\N|\n",
            "|tt0000002|       2|nm1335271|       composer|                  \\N|         \\N|\n",
            "+---------+--------+---------+---------------+--------------------+-----------+\n",
            "only showing top 5 rows\n",
            "\n"
          ]
        }
      ]
    },
    {
      "cell_type": "code",
      "source": [
        "movies.show(5)"
      ],
      "metadata": {
        "colab": {
          "base_uri": "https://localhost:8080/"
        },
        "id": "kiFsiSCeDbWr",
        "outputId": "88cdd61b-c5d1-4ae9-dd44-627e7ec22407"
      },
      "execution_count": 7,
      "outputs": [
        {
          "output_type": "stream",
          "name": "stdout",
          "text": [
            "+---------+---------+--------------------+--------------------+-------+---------+-------+--------------+--------------------+\n",
            "|   tconst|titleType|        primaryTitle|       originalTitle|isAdult|startYear|endYear|runtimeMinutes|              genres|\n",
            "+---------+---------+--------------------+--------------------+-------+---------+-------+--------------+--------------------+\n",
            "|tt0000001|    short|          Carmencita|          Carmencita|      0|     1894|     \\N|             1|   Documentary,Short|\n",
            "|tt0000002|    short|Le clown et ses c...|Le clown et ses c...|      0|     1892|     \\N|             5|     Animation,Short|\n",
            "|tt0000003|    short|      Pauvre Pierrot|      Pauvre Pierrot|      0|     1892|     \\N|             4|Animation,Comedy,...|\n",
            "|tt0000004|    short|         Un bon bock|         Un bon bock|      0|     1892|     \\N|            \\N|     Animation,Short|\n",
            "|tt0000005|    short|    Blacksmith Scene|    Blacksmith Scene|      0|     1893|     \\N|             1|        Comedy,Short|\n",
            "+---------+---------+--------------------+--------------------+-------+---------+-------+--------------+--------------------+\n",
            "only showing top 5 rows\n",
            "\n"
          ]
        }
      ]
    },
    {
      "cell_type": "code",
      "source": [
        "persons.show(5)"
      ],
      "metadata": {
        "colab": {
          "base_uri": "https://localhost:8080/"
        },
        "id": "Uq7IMOlKDdBh",
        "outputId": "a0da59db-b99d-47b5-9e9f-0ddb912a7a28"
      },
      "execution_count": 8,
      "outputs": [
        {
          "output_type": "stream",
          "name": "stdout",
          "text": [
            "+---------+---------------+---------+---------+--------------------+--------------------+\n",
            "|   nconst|    primaryName|birthYear|deathYear|   primaryProfession|      knownForTitles|\n",
            "+---------+---------------+---------+---------+--------------------+--------------------+\n",
            "|nm0000001|   Fred Astaire|     1899|     1987|soundtrack,actor,...|tt0050419,tt00531...|\n",
            "|nm0000002|  Lauren Bacall|     1924|     2014|  actress,soundtrack|tt0117057,tt00373...|\n",
            "|nm0000003|Brigitte Bardot|     1934|       \\N|actress,soundtrac...|tt0049189,tt00599...|\n",
            "|nm0000004|   John Belushi|     1949|     1982|actor,writer,soun...|tt0078723,tt00804...|\n",
            "|nm0000005| Ingmar Bergman|     1918|     2007|writer,director,a...|tt0050986,tt00839...|\n",
            "+---------+---------------+---------+---------+--------------------+--------------------+\n",
            "only showing top 5 rows\n",
            "\n"
          ]
        }
      ]
    }
  ]
}